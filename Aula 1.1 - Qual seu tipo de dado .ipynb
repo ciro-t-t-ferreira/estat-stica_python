{
 "cells": [
  {
   "cell_type": "code",
   "execution_count": 1,
   "id": "3580702c",
   "metadata": {},
   "outputs": [],
   "source": [
    "import pandas as pd"
   ]
  },
  {
   "cell_type": "code",
   "execution_count": 4,
   "id": "4c6059d1",
   "metadata": {},
   "outputs": [],
   "source": [
    "dados = pd.read_csv('dados/dados.csv')"
   ]
  },
  {
   "cell_type": "code",
   "execution_count": 5,
   "id": "a8e03a10",
   "metadata": {},
   "outputs": [
    {
     "data": {
      "text/html": [
       "<div>\n",
       "<style scoped>\n",
       "    .dataframe tbody tr th:only-of-type {\n",
       "        vertical-align: middle;\n",
       "    }\n",
       "\n",
       "    .dataframe tbody tr th {\n",
       "        vertical-align: top;\n",
       "    }\n",
       "\n",
       "    .dataframe thead th {\n",
       "        text-align: right;\n",
       "    }\n",
       "</style>\n",
       "<table border=\"1\" class=\"dataframe\">\n",
       "  <thead>\n",
       "    <tr style=\"text-align: right;\">\n",
       "      <th></th>\n",
       "      <th>UF</th>\n",
       "      <th>Sexo</th>\n",
       "      <th>Idade</th>\n",
       "      <th>Cor</th>\n",
       "      <th>Anos de Estudo</th>\n",
       "      <th>Renda</th>\n",
       "      <th>Altura</th>\n",
       "    </tr>\n",
       "  </thead>\n",
       "  <tbody>\n",
       "    <tr>\n",
       "      <th>0</th>\n",
       "      <td>11</td>\n",
       "      <td>0</td>\n",
       "      <td>23</td>\n",
       "      <td>8</td>\n",
       "      <td>12</td>\n",
       "      <td>800</td>\n",
       "      <td>1.603808</td>\n",
       "    </tr>\n",
       "    <tr>\n",
       "      <th>1</th>\n",
       "      <td>11</td>\n",
       "      <td>1</td>\n",
       "      <td>23</td>\n",
       "      <td>2</td>\n",
       "      <td>12</td>\n",
       "      <td>1150</td>\n",
       "      <td>1.739790</td>\n",
       "    </tr>\n",
       "    <tr>\n",
       "      <th>2</th>\n",
       "      <td>11</td>\n",
       "      <td>1</td>\n",
       "      <td>35</td>\n",
       "      <td>8</td>\n",
       "      <td>15</td>\n",
       "      <td>880</td>\n",
       "      <td>1.760444</td>\n",
       "    </tr>\n",
       "    <tr>\n",
       "      <th>3</th>\n",
       "      <td>11</td>\n",
       "      <td>0</td>\n",
       "      <td>46</td>\n",
       "      <td>2</td>\n",
       "      <td>6</td>\n",
       "      <td>3500</td>\n",
       "      <td>1.783158</td>\n",
       "    </tr>\n",
       "    <tr>\n",
       "      <th>4</th>\n",
       "      <td>11</td>\n",
       "      <td>1</td>\n",
       "      <td>47</td>\n",
       "      <td>8</td>\n",
       "      <td>9</td>\n",
       "      <td>150</td>\n",
       "      <td>1.690631</td>\n",
       "    </tr>\n",
       "    <tr>\n",
       "      <th>5</th>\n",
       "      <td>11</td>\n",
       "      <td>1</td>\n",
       "      <td>34</td>\n",
       "      <td>8</td>\n",
       "      <td>12</td>\n",
       "      <td>790</td>\n",
       "      <td>1.637906</td>\n",
       "    </tr>\n",
       "    <tr>\n",
       "      <th>6</th>\n",
       "      <td>11</td>\n",
       "      <td>0</td>\n",
       "      <td>57</td>\n",
       "      <td>8</td>\n",
       "      <td>12</td>\n",
       "      <td>3150</td>\n",
       "      <td>1.570078</td>\n",
       "    </tr>\n",
       "    <tr>\n",
       "      <th>7</th>\n",
       "      <td>11</td>\n",
       "      <td>1</td>\n",
       "      <td>60</td>\n",
       "      <td>8</td>\n",
       "      <td>12</td>\n",
       "      <td>1700</td>\n",
       "      <td>1.608495</td>\n",
       "    </tr>\n",
       "    <tr>\n",
       "      <th>8</th>\n",
       "      <td>11</td>\n",
       "      <td>1</td>\n",
       "      <td>50</td>\n",
       "      <td>4</td>\n",
       "      <td>14</td>\n",
       "      <td>1800</td>\n",
       "      <td>1.780329</td>\n",
       "    </tr>\n",
       "    <tr>\n",
       "      <th>9</th>\n",
       "      <td>11</td>\n",
       "      <td>0</td>\n",
       "      <td>26</td>\n",
       "      <td>8</td>\n",
       "      <td>12</td>\n",
       "      <td>1150</td>\n",
       "      <td>1.793203</td>\n",
       "    </tr>\n",
       "  </tbody>\n",
       "</table>\n",
       "</div>"
      ],
      "text/plain": [
       "   UF  Sexo  Idade  Cor  Anos de Estudo  Renda    Altura\n",
       "0  11     0     23    8              12    800  1.603808\n",
       "1  11     1     23    2              12   1150  1.739790\n",
       "2  11     1     35    8              15    880  1.760444\n",
       "3  11     0     46    2               6   3500  1.783158\n",
       "4  11     1     47    8               9    150  1.690631\n",
       "5  11     1     34    8              12    790  1.637906\n",
       "6  11     0     57    8              12   3150  1.570078\n",
       "7  11     1     60    8              12   1700  1.608495\n",
       "8  11     1     50    4              14   1800  1.780329\n",
       "9  11     0     26    8              12   1150  1.793203"
      ]
     },
     "execution_count": 5,
     "metadata": {},
     "output_type": "execute_result"
    }
   ],
   "source": [
    "dados.head(10)"
   ]
  },
  {
   "cell_type": "code",
   "execution_count": 8,
   "id": "a5b18135",
   "metadata": {},
   "outputs": [
    {
     "data": {
      "text/plain": [
       "[11,\n",
       " 12,\n",
       " 13,\n",
       " 14,\n",
       " 15,\n",
       " 16,\n",
       " 17,\n",
       " 21,\n",
       " 22,\n",
       " 23,\n",
       " 24,\n",
       " 25,\n",
       " 26,\n",
       " 27,\n",
       " 28,\n",
       " 29,\n",
       " 31,\n",
       " 32,\n",
       " 33,\n",
       " 35,\n",
       " 41,\n",
       " 42,\n",
       " 43,\n",
       " 50,\n",
       " 51,\n",
       " 52,\n",
       " 53]"
      ]
     },
     "execution_count": 8,
     "metadata": {},
     "output_type": "execute_result"
    }
   ],
   "source": [
    "#Visualizando cada um dos dados\n",
    "sorted(dados['UF'].unique())"
   ]
  },
  {
   "cell_type": "code",
   "execution_count": 9,
   "id": "15e920fe",
   "metadata": {},
   "outputs": [
    {
     "data": {
      "text/plain": [
       "[0, 1]"
      ]
     },
     "execution_count": 9,
     "metadata": {},
     "output_type": "execute_result"
    }
   ],
   "source": [
    "sorted(dados['Sexo'].unique())"
   ]
  },
  {
   "cell_type": "code",
   "execution_count": 11,
   "id": "ddda074c",
   "metadata": {},
   "outputs": [
    {
     "data": {
      "text/plain": [
       "[0, 2, 4, 6, 8]"
      ]
     },
     "execution_count": 11,
     "metadata": {},
     "output_type": "execute_result"
    }
   ],
   "source": [
    "sorted(dados['Cor'].unique())"
   ]
  },
  {
   "cell_type": "code",
   "execution_count": 12,
   "id": "15768614",
   "metadata": {},
   "outputs": [
    {
     "data": {
      "text/plain": [
       "[1, 2, 3, 4, 5, 6, 7, 8, 9, 10, 11, 12, 13, 14, 15, 16, 17]"
      ]
     },
     "execution_count": 12,
     "metadata": {},
     "output_type": "execute_result"
    }
   ],
   "source": [
    "sorted(dados['Anos de Estudo'].unique()) #Isso não indica o número de anos de estudo, é um código que deve ser checado no link abaixo"
   ]
  },
  {
   "cell_type": "code",
   "execution_count": 13,
   "id": "bf46daef",
   "metadata": {},
   "outputs": [],
   "source": [
    "# Para checar a codificação dos dados:\n",
    "# https://colab.research.google.com/drive/13YKK-RQOJnxxPu_JnqI2Q198CxsOrWkq?authuser=1#scrollTo=GsC_WhLFjQKq"
   ]
  },
  {
   "cell_type": "markdown",
   "id": "a8254db9",
   "metadata": {},
   "source": [
    "# Tipos de Dados:"
   ]
  },
  {
   "cell_type": "markdown",
   "id": "7c8335c5",
   "metadata": {},
   "source": [
    "## Qualitativo nominal (Sexo, Cor, UF): não podem ser hierarquizados para serem ordenados"
   ]
  },
  {
   "cell_type": "markdown",
   "id": "81fc37e1",
   "metadata": {},
   "source": [
    "## Qualitativo ordinal: pode ser hierarquizado. Ex: se o nossos dados de Idade fossem dados por intervalos de idade"
   ]
  },
  {
   "cell_type": "markdown",
   "id": "8a77bd85",
   "metadata": {},
   "source": [
    "## Quantitativo discreto (Idade): pode ser contada, mas só existe com passos discretos (nesse caso não contamos 34,5 anos)"
   ]
  },
  {
   "cell_type": "code",
   "execution_count": 16,
   "id": "c1c37f06",
   "metadata": {},
   "outputs": [
    {
     "name": "stdout",
     "output_type": "stream",
     "text": [
      "De 13 até 99 Anos\n"
     ]
    }
   ],
   "source": [
    "print('De %s até %s Anos' % (dados['Idade'].min(), dados['Idade'].max()))"
   ]
  },
  {
   "cell_type": "markdown",
   "id": "3c8fb969",
   "metadata": {},
   "source": [
    "## Quantitativo contínuo (Altura): pode ser contada e pode ter qualquer valor dado certo intervalo"
   ]
  },
  {
   "cell_type": "code",
   "execution_count": 17,
   "id": "5fc04add",
   "metadata": {},
   "outputs": [
    {
     "name": "stdout",
     "output_type": "stream",
     "text": [
      "De 1.339244614 até 2.028496765 metros\n"
     ]
    }
   ],
   "source": [
    "print('De %s até %s metros' % (dados['Altura'].min(), dados['Altura'].max()))"
   ]
  },
  {
   "cell_type": "code",
   "execution_count": null,
   "id": "c6bb61bb",
   "metadata": {},
   "outputs": [],
   "source": []
  }
 ],
 "metadata": {
  "kernelspec": {
   "display_name": "Python 3 (ipykernel)",
   "language": "python",
   "name": "python3"
  },
  "language_info": {
   "codemirror_mode": {
    "name": "ipython",
    "version": 3
   },
   "file_extension": ".py",
   "mimetype": "text/x-python",
   "name": "python",
   "nbconvert_exporter": "python",
   "pygments_lexer": "ipython3",
   "version": "3.10.9"
  }
 },
 "nbformat": 4,
 "nbformat_minor": 5
}
